{
 "cells": [
  {
   "cell_type": "code",
   "execution_count": 1,
   "metadata": {},
   "outputs": [
    {
     "name": "stderr",
     "output_type": "stream",
     "text": [
      "Using TensorFlow backend.\n",
      "/usr/local/lib/python3.5/dist-packages/tensorflow/python/framework/dtypes.py:526: FutureWarning: Passing (type, 1) or '1type' as a synonym of type is deprecated; in a future version of numpy, it will be understood as (type, (1,)) / '(1,)type'.\n",
      "  _np_qint8 = np.dtype([(\"qint8\", np.int8, 1)])\n",
      "/usr/local/lib/python3.5/dist-packages/tensorflow/python/framework/dtypes.py:527: FutureWarning: Passing (type, 1) or '1type' as a synonym of type is deprecated; in a future version of numpy, it will be understood as (type, (1,)) / '(1,)type'.\n",
      "  _np_quint8 = np.dtype([(\"quint8\", np.uint8, 1)])\n",
      "/usr/local/lib/python3.5/dist-packages/tensorflow/python/framework/dtypes.py:528: FutureWarning: Passing (type, 1) or '1type' as a synonym of type is deprecated; in a future version of numpy, it will be understood as (type, (1,)) / '(1,)type'.\n",
      "  _np_qint16 = np.dtype([(\"qint16\", np.int16, 1)])\n",
      "/usr/local/lib/python3.5/dist-packages/tensorflow/python/framework/dtypes.py:529: FutureWarning: Passing (type, 1) or '1type' as a synonym of type is deprecated; in a future version of numpy, it will be understood as (type, (1,)) / '(1,)type'.\n",
      "  _np_quint16 = np.dtype([(\"quint16\", np.uint16, 1)])\n",
      "/usr/local/lib/python3.5/dist-packages/tensorflow/python/framework/dtypes.py:530: FutureWarning: Passing (type, 1) or '1type' as a synonym of type is deprecated; in a future version of numpy, it will be understood as (type, (1,)) / '(1,)type'.\n",
      "  _np_qint32 = np.dtype([(\"qint32\", np.int32, 1)])\n",
      "/usr/local/lib/python3.5/dist-packages/tensorflow/python/framework/dtypes.py:535: FutureWarning: Passing (type, 1) or '1type' as a synonym of type is deprecated; in a future version of numpy, it will be understood as (type, (1,)) / '(1,)type'.\n",
      "  np_resource = np.dtype([(\"resource\", np.ubyte, 1)])\n"
     ]
    }
   ],
   "source": [
    "from keras.callbacks import TensorBoard, ModelCheckpoint, EarlyStopping, CSVLogger\n",
    "import time\n",
    "import os\n",
    "import numpy as np\n",
    "from keras.layers import Dense, Flatten, Dropout\n",
    "from keras.layers.recurrent import LSTM\n",
    "from keras.models import Sequential, load_model\n",
    "from keras.optimizers import Adam\n",
    "import sys"
   ]
  },
  {
   "cell_type": "code",
   "execution_count": 2,
   "metadata": {},
   "outputs": [],
   "source": [
    "X = np.load('X_data.npy')\n",
    "y = np.load('y_data.npy')"
   ]
  },
  {
   "cell_type": "code",
   "execution_count": 3,
   "metadata": {},
   "outputs": [
    {
     "data": {
      "text/plain": [
       "(7, 1, 2048)"
      ]
     },
     "execution_count": 3,
     "metadata": {},
     "output_type": "execute_result"
    }
   ],
   "source": [
    "X[0].shape"
   ]
  },
  {
   "cell_type": "code",
   "execution_count": 4,
   "metadata": {},
   "outputs": [
    {
     "data": {
      "text/plain": [
       "(4,)"
      ]
     },
     "execution_count": 4,
     "metadata": {},
     "output_type": "execute_result"
    }
   ],
   "source": [
    "y[0].shape"
   ]
  },
  {
   "cell_type": "code",
   "execution_count": 5,
   "metadata": {},
   "outputs": [
    {
     "data": {
      "text/plain": [
       "(552, 7, 2048)"
      ]
     },
     "execution_count": 5,
     "metadata": {},
     "output_type": "execute_result"
    }
   ],
   "source": [
    "X = np.squeeze(X)\n",
    "y = np.squeeze(y)\n",
    "\n",
    "\n",
    "X.shape"
   ]
  },
  {
   "cell_type": "code",
   "execution_count": 6,
   "metadata": {},
   "outputs": [
    {
     "name": "stdout",
     "output_type": "stream",
     "text": [
      "WARNING:tensorflow:From /usr/local/lib/python3.5/dist-packages/tensorflow/python/framework/op_def_library.py:263: colocate_with (from tensorflow.python.framework.ops) is deprecated and will be removed in a future version.\n",
      "Instructions for updating:\n",
      "Colocations handled automatically by placer.\n",
      "WARNING:tensorflow:From /usr/local/lib/python3.5/dist-packages/keras/backend/tensorflow_backend.py:3445: calling dropout (from tensorflow.python.ops.nn_ops) with keep_prob is deprecated and will be removed in a future version.\n",
      "Instructions for updating:\n",
      "Please use `rate` instead of `keep_prob`. Rate should be set to `rate = 1 - keep_prob`.\n"
     ]
    }
   ],
   "source": [
    "model = Sequential()\n",
    "model.add(LSTM(2048, return_sequences=False,input_shape=X[0].shape,dropout=0.5))\n",
    "model.add(Dense(512, activation='relu'))\n",
    "model.add(Dropout(0.5))\n",
    "model.add(Dense(len(y[0]), activation='softmax'))\n"
   ]
  },
  {
   "cell_type": "code",
   "execution_count": 7,
   "metadata": {},
   "outputs": [],
   "source": [
    "early_stopper = EarlyStopping(patience=20)"
   ]
  },
  {
   "cell_type": "code",
   "execution_count": 8,
   "metadata": {},
   "outputs": [],
   "source": [
    "adam_optimizer = Adam(lr=1e-5, decay=1e-6)\n",
    "\n",
    "model.compile(optimizer=adam_optimizer, loss='categorical_crossentropy', metrics=['accuracy']) "
   ]
  },
  {
   "cell_type": "code",
   "execution_count": 9,
   "metadata": {},
   "outputs": [
    {
     "name": "stdout",
     "output_type": "stream",
     "text": [
      "WARNING:tensorflow:From /usr/local/lib/python3.5/dist-packages/tensorflow/python/ops/math_ops.py:3066: to_int32 (from tensorflow.python.ops.math_ops) is deprecated and will be removed in a future version.\n",
      "Instructions for updating:\n",
      "Use tf.cast instead.\n",
      "Train on 546 samples, validate on 6 samples\n",
      "Epoch 1/1000\n",
      "546/546 [==============================] - 6s 10ms/step - loss: 1.3958 - acc: 0.2985 - val_loss: 0.8342 - val_acc: 1.0000\n",
      "Epoch 2/1000\n",
      "546/546 [==============================] - 2s 3ms/step - loss: 1.2718 - acc: 0.4304 - val_loss: 0.7774 - val_acc: 1.0000\n",
      "Epoch 3/1000\n",
      "546/546 [==============================] - 2s 3ms/step - loss: 1.1658 - acc: 0.5128 - val_loss: 0.8802 - val_acc: 1.0000\n",
      "Epoch 4/1000\n",
      "546/546 [==============================] - 2s 3ms/step - loss: 1.1259 - acc: 0.5531 - val_loss: 0.7532 - val_acc: 1.0000\n",
      "Epoch 5/1000\n",
      "546/546 [==============================] - 2s 3ms/step - loss: 1.0386 - acc: 0.6062 - val_loss: 0.6978 - val_acc: 1.0000\n",
      "Epoch 6/1000\n",
      "546/546 [==============================] - 2s 3ms/step - loss: 0.9637 - acc: 0.6520 - val_loss: 0.6568 - val_acc: 1.0000\n",
      "Epoch 7/1000\n",
      "546/546 [==============================] - 2s 3ms/step - loss: 0.9093 - acc: 0.6905 - val_loss: 0.6610 - val_acc: 1.0000\n",
      "Epoch 8/1000\n",
      "546/546 [==============================] - 2s 3ms/step - loss: 0.8866 - acc: 0.6923 - val_loss: 0.6107 - val_acc: 1.0000\n",
      "Epoch 9/1000\n",
      "546/546 [==============================] - 2s 3ms/step - loss: 0.8195 - acc: 0.7106 - val_loss: 0.5696 - val_acc: 1.0000\n",
      "Epoch 10/1000\n",
      "546/546 [==============================] - 2s 3ms/step - loss: 0.8182 - acc: 0.7179 - val_loss: 0.6359 - val_acc: 0.6667\n",
      "Epoch 11/1000\n",
      "546/546 [==============================] - 2s 3ms/step - loss: 0.7854 - acc: 0.7216 - val_loss: 0.5758 - val_acc: 0.6667\n",
      "Epoch 12/1000\n",
      "546/546 [==============================] - 2s 3ms/step - loss: 0.7431 - acc: 0.7509 - val_loss: 0.5546 - val_acc: 0.8333\n",
      "Epoch 13/1000\n",
      "546/546 [==============================] - 2s 3ms/step - loss: 0.6936 - acc: 0.7473 - val_loss: 0.5213 - val_acc: 0.8333\n",
      "Epoch 14/1000\n",
      "546/546 [==============================] - 2s 3ms/step - loss: 0.6862 - acc: 0.7601 - val_loss: 0.5531 - val_acc: 0.6667\n",
      "Epoch 15/1000\n",
      "546/546 [==============================] - 2s 3ms/step - loss: 0.6801 - acc: 0.7601 - val_loss: 0.4912 - val_acc: 0.8333\n",
      "Epoch 16/1000\n",
      "546/546 [==============================] - 2s 3ms/step - loss: 0.6460 - acc: 0.7821 - val_loss: 0.4394 - val_acc: 0.8333\n",
      "Epoch 17/1000\n",
      "546/546 [==============================] - 2s 3ms/step - loss: 0.6338 - acc: 0.7619 - val_loss: 0.4898 - val_acc: 0.8333\n",
      "Epoch 18/1000\n",
      "546/546 [==============================] - 2s 3ms/step - loss: 0.5951 - acc: 0.7912 - val_loss: 0.3424 - val_acc: 0.8333\n",
      "Epoch 19/1000\n",
      "546/546 [==============================] - 2s 3ms/step - loss: 0.5836 - acc: 0.7839 - val_loss: 0.4556 - val_acc: 0.8333\n",
      "Epoch 20/1000\n",
      "546/546 [==============================] - 2s 3ms/step - loss: 0.5689 - acc: 0.8040 - val_loss: 0.4229 - val_acc: 0.8333\n",
      "Epoch 21/1000\n",
      "546/546 [==============================] - 2s 3ms/step - loss: 0.5536 - acc: 0.7949 - val_loss: 0.4484 - val_acc: 0.8333\n",
      "Epoch 22/1000\n",
      "546/546 [==============================] - 2s 3ms/step - loss: 0.5363 - acc: 0.8278 - val_loss: 0.3299 - val_acc: 1.0000\n",
      "Epoch 23/1000\n",
      "546/546 [==============================] - 2s 3ms/step - loss: 0.5009 - acc: 0.8315 - val_loss: 0.3588 - val_acc: 1.0000\n",
      "Epoch 24/1000\n",
      "546/546 [==============================] - 2s 3ms/step - loss: 0.5208 - acc: 0.8150 - val_loss: 0.3182 - val_acc: 1.0000\n",
      "Epoch 25/1000\n",
      "546/546 [==============================] - 2s 3ms/step - loss: 0.4934 - acc: 0.8352 - val_loss: 0.2894 - val_acc: 1.0000\n",
      "Epoch 26/1000\n",
      "546/546 [==============================] - 2s 3ms/step - loss: 0.4581 - acc: 0.8333 - val_loss: 0.2186 - val_acc: 1.0000\n",
      "Epoch 27/1000\n",
      "546/546 [==============================] - 2s 3ms/step - loss: 0.4795 - acc: 0.8407 - val_loss: 0.2021 - val_acc: 1.0000\n",
      "Epoch 28/1000\n",
      "546/546 [==============================] - 2s 3ms/step - loss: 0.4679 - acc: 0.8462 - val_loss: 0.2859 - val_acc: 1.0000\n",
      "Epoch 29/1000\n",
      "546/546 [==============================] - 2s 3ms/step - loss: 0.4390 - acc: 0.8553 - val_loss: 0.1829 - val_acc: 1.0000\n",
      "Epoch 30/1000\n",
      "546/546 [==============================] - 2s 3ms/step - loss: 0.4666 - acc: 0.8370 - val_loss: 0.2399 - val_acc: 1.0000\n",
      "Epoch 31/1000\n",
      "546/546 [==============================] - 2s 3ms/step - loss: 0.4227 - acc: 0.8571 - val_loss: 0.1449 - val_acc: 1.0000\n",
      "Epoch 32/1000\n",
      "546/546 [==============================] - 2s 3ms/step - loss: 0.4444 - acc: 0.8498 - val_loss: 0.2619 - val_acc: 1.0000\n",
      "Epoch 33/1000\n",
      "546/546 [==============================] - 2s 3ms/step - loss: 0.4594 - acc: 0.8333 - val_loss: 0.1763 - val_acc: 1.0000\n",
      "Epoch 34/1000\n",
      "546/546 [==============================] - 2s 3ms/step - loss: 0.4312 - acc: 0.8590 - val_loss: 0.1913 - val_acc: 1.0000\n",
      "Epoch 35/1000\n",
      "546/546 [==============================] - 2s 3ms/step - loss: 0.3956 - acc: 0.8626 - val_loss: 0.1955 - val_acc: 1.0000\n",
      "Epoch 36/1000\n",
      "546/546 [==============================] - 2s 3ms/step - loss: 0.3911 - acc: 0.8626 - val_loss: 0.1756 - val_acc: 1.0000\n"
     ]
    }
   ],
   "source": [
    "history = model.fit(X,y,batch_size=32,validation_split=0.01,verbose=1,callbacks=[early_stopper],epochs=1000)"
   ]
  },
  {
   "cell_type": "code",
   "execution_count": 12,
   "metadata": {},
   "outputs": [
    {
     "data": {
      "image/png": "[encoded data removed]",
      "text/plain": [
       "<Figure size 432x288 with 1 Axes>"
      ]
     },
     "metadata": {
      "needs_background": "light"
     },
     "output_type": "display_data"
    }
   ],
   "source": [
    "import matplotlib.pyplot as plt\n",
    "\n",
    "\n",
    "\n",
    "# Plot training & validation loss values\n",
    "plt.plot(history.history['loss'])\n",
    "plt.plot(history.history['val_loss'])\n",
    "plt.title('Model loss')\n",
    "plt.ylabel('Loss')\n",
    "plt.xlabel('Epoch')\n",
    "plt.legend(['Train', 'Test'], loc='upper left')\n",
    "plt.show()\n",
    "\n",
    "%matplotlib inline\n"
   ]
  },
  {
   "cell_type": "code",
   "execution_count": null,
   "metadata": {},
   "outputs": [],
   "source": []
  }
 ],
 "metadata": {
  "kernelspec": {
   "display_name": "Python 3",
   "language": "python",
   "name": "python3"
  },
  "language_info": {
   "codemirror_mode": {
    "name": "ipython",
    "version": 3
   },
   "file_extension": ".py",
   "mimetype": "text/x-python",
   "name": "python",
   "nbconvert_exporter": "python",
   "pygments_lexer": "ipython3",
   "version": "3.5.2"
  }
 },
 "nbformat": 4,
 "nbformat_minor": 2
}
